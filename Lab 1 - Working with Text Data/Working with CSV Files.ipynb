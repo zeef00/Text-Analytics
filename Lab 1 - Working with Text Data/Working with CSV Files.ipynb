{
 "cells": [
  {
   "cell_type": "code",
   "execution_count": 1,
   "id": "e8de8920",
   "metadata": {},
   "outputs": [],
   "source": [
    "import csv "
   ]
  },
  {
   "cell_type": "code",
   "execution_count": 2,
   "id": "cf801d6b",
   "metadata": {},
   "outputs": [],
   "source": [
    "# Define the CSV file name \n",
    "csv_file = 'sample_data.csv' \n",
    " \n",
    "# Define the output text file name \n",
    "output_file = 'comments.txt' \n",
    " \n",
    "# Open the CSV file for reading \n",
    "with open(csv_file, 'r', newline='') as csvfile: \n",
    "    # Create a CSV reader object \n",
    "    reader = csv.DictReader(csvfile) \n",
    "     \n",
    "    # Initialize a list to store the comments \n",
    "    comments = []\n",
    "     \n",
    "    # Iterate over each row in the CSV file \n",
    "    for row in reader:\n",
    "        # Extract the 'comments' column value and add it to the list\n",
    "        comments.append(row['comments'])"
   ]
  },
  {
   "cell_type": "code",
   "execution_count": 3,
   "id": "e1989484",
   "metadata": {},
   "outputs": [
    {
     "data": {
      "text/plain": [
       "['Comment1', 'Comment2', 'Comment3', 'Comment4', 'Comment5']"
      ]
     },
     "execution_count": 3,
     "metadata": {},
     "output_type": "execute_result"
    }
   ],
   "source": [
    "comments"
   ]
  },
  {
   "cell_type": "code",
   "execution_count": 4,
   "id": "600f19c0",
   "metadata": {},
   "outputs": [
    {
     "name": "stdout",
     "output_type": "stream",
     "text": [
      "Comments extracted and saved to comments.txt\n"
     ]
    }
   ],
   "source": [
    "# Open the output text file for writing \n",
    "with open(output_file, 'w') as txtfile: \n",
    "    # Write each comment to the text file \n",
    "    for comment in comments: \n",
    "        txtfile.write(comment + '\\n') \n",
    " \n",
    "print(\"Comments extracted and saved to\", output_file)"
   ]
  },
  {
   "cell_type": "code",
   "execution_count": null,
   "id": "d6da2c8e",
   "metadata": {},
   "outputs": [],
   "source": []
  }
 ],
 "metadata": {
  "kernelspec": {
   "display_name": "Python 3 (ipykernel)",
   "language": "python",
   "name": "python3"
  },
  "language_info": {
   "codemirror_mode": {
    "name": "ipython",
    "version": 3
   },
   "file_extension": ".py",
   "mimetype": "text/x-python",
   "name": "python",
   "nbconvert_exporter": "python",
   "pygments_lexer": "ipython3",
   "version": "3.11.5"
  }
 },
 "nbformat": 4,
 "nbformat_minor": 5
}
